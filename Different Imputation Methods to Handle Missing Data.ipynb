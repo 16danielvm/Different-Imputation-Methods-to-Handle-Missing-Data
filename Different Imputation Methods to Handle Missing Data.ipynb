{
 "metadata": {
  "language_info": {
   "codemirror_mode": {
    "name": "ipython",
    "version": 3
   },
   "file_extension": ".py",
   "mimetype": "text/x-python",
   "name": "python",
   "nbconvert_exporter": "python",
   "pygments_lexer": "ipython3",
   "version": "3.7.6"
  },
  "orig_nbformat": 4,
  "kernelspec": {
   "name": "python3",
   "display_name": "Python 3.7.6 64-bit"
  },
  "interpreter": {
   "hash": "c0e511aeee49d7f530e3d7b46165066f8c04b3b2ae4913cc121f1f23a9402df4"
  }
 },
 "nbformat": 4,
 "nbformat_minor": 2,
 "cells": [
  {
   "source": [
    "# Different Imputation Methods to Handle Missing Data"
   ],
   "cell_type": "markdown",
   "metadata": {}
  },
  {
   "cell_type": "code",
   "execution_count": 1,
   "metadata": {},
   "outputs": [],
   "source": [
    "import numpy as np\n",
    "import pandas as pd"
   ]
  },
  {
   "source": [
    "### Dataframe example"
   ],
   "cell_type": "markdown",
   "metadata": {}
  },
  {
   "cell_type": "code",
   "execution_count": 2,
   "metadata": {},
   "outputs": [],
   "source": [
    "dic = {'f1': [1,4,np.nan,np.nan,np.nan,8,np.nan,np.nan,9,np.nan],'f2':[0.1,0.6,0.2,0.7,0.7,0.3,0.2,0.8,0.4,0.3], 'f3': [0.62,0.22,0.63,0.36,0.38,0.07,0.6,0.17,0.24,0.05],'f4': [0.517,0.879,0.821,0.018,0.469,0.969,0.439,0.177,0.664,0.007], 'Class':[0,1,1,1,0,0,1,0,0,1]}\n",
    "df_example = pd.DataFrame(dic)"
   ]
  },
  {
   "cell_type": "code",
   "execution_count": 3,
   "metadata": {},
   "outputs": [
    {
     "output_type": "execute_result",
     "data": {
      "text/plain": [
       "    f1   f2    f3     f4  Class\n",
       "0  1.0  0.1  0.62  0.517      0\n",
       "1  4.0  0.6  0.22  0.879      1\n",
       "2  NaN  0.2  0.63  0.821      1\n",
       "3  NaN  0.7  0.36  0.018      1\n",
       "4  NaN  0.7  0.38  0.469      0\n",
       "5  8.0  0.3  0.07  0.969      0\n",
       "6  NaN  0.2  0.60  0.439      1\n",
       "7  NaN  0.8  0.17  0.177      0\n",
       "8  9.0  0.4  0.24  0.664      0\n",
       "9  NaN  0.3  0.05  0.007      1"
      ],
      "text/html": "<div>\n<style scoped>\n    .dataframe tbody tr th:only-of-type {\n        vertical-align: middle;\n    }\n\n    .dataframe tbody tr th {\n        vertical-align: top;\n    }\n\n    .dataframe thead th {\n        text-align: right;\n    }\n</style>\n<table border=\"1\" class=\"dataframe\">\n  <thead>\n    <tr style=\"text-align: right;\">\n      <th></th>\n      <th>f1</th>\n      <th>f2</th>\n      <th>f3</th>\n      <th>f4</th>\n      <th>Class</th>\n    </tr>\n  </thead>\n  <tbody>\n    <tr>\n      <th>0</th>\n      <td>1.0</td>\n      <td>0.1</td>\n      <td>0.62</td>\n      <td>0.517</td>\n      <td>0</td>\n    </tr>\n    <tr>\n      <th>1</th>\n      <td>4.0</td>\n      <td>0.6</td>\n      <td>0.22</td>\n      <td>0.879</td>\n      <td>1</td>\n    </tr>\n    <tr>\n      <th>2</th>\n      <td>NaN</td>\n      <td>0.2</td>\n      <td>0.63</td>\n      <td>0.821</td>\n      <td>1</td>\n    </tr>\n    <tr>\n      <th>3</th>\n      <td>NaN</td>\n      <td>0.7</td>\n      <td>0.36</td>\n      <td>0.018</td>\n      <td>1</td>\n    </tr>\n    <tr>\n      <th>4</th>\n      <td>NaN</td>\n      <td>0.7</td>\n      <td>0.38</td>\n      <td>0.469</td>\n      <td>0</td>\n    </tr>\n    <tr>\n      <th>5</th>\n      <td>8.0</td>\n      <td>0.3</td>\n      <td>0.07</td>\n      <td>0.969</td>\n      <td>0</td>\n    </tr>\n    <tr>\n      <th>6</th>\n      <td>NaN</td>\n      <td>0.2</td>\n      <td>0.60</td>\n      <td>0.439</td>\n      <td>1</td>\n    </tr>\n    <tr>\n      <th>7</th>\n      <td>NaN</td>\n      <td>0.8</td>\n      <td>0.17</td>\n      <td>0.177</td>\n      <td>0</td>\n    </tr>\n    <tr>\n      <th>8</th>\n      <td>9.0</td>\n      <td>0.4</td>\n      <td>0.24</td>\n      <td>0.664</td>\n      <td>0</td>\n    </tr>\n    <tr>\n      <th>9</th>\n      <td>NaN</td>\n      <td>0.3</td>\n      <td>0.05</td>\n      <td>0.007</td>\n      <td>1</td>\n    </tr>\n  </tbody>\n</table>\n</div>"
     },
     "metadata": {},
     "execution_count": 3
    }
   ],
   "source": [
    "df_example"
   ]
  },
  {
   "source": [
    "## 1.What is imputation?\n",
    "\n",
    "Imputation is the process of replacing missing values with substituted data."
   ],
   "cell_type": "markdown",
   "metadata": {}
  },
  {
   "source": [
    "## 2.Normal Imputation\n",
    "\n",
    "In the example, the f1 feature has missing value. We can replace the missing values with different methods depending on the data type of feature f1.\n",
    "\n",
    "- Mean\n",
    "- Median\n",
    "- Mode\n",
    "\n",
    "If the data is numerical : Mean and Median\n",
    "\n",
    "If the data is categorial: Mode (Frequently occurring value) "
   ],
   "cell_type": "markdown",
   "metadata": {}
  },
  {
   "source": [
    "### Create the same dataframe example to fill missing values with mean method"
   ],
   "cell_type": "markdown",
   "metadata": {}
  },
  {
   "cell_type": "code",
   "execution_count": 4,
   "metadata": {},
   "outputs": [],
   "source": [
    "df_example_NormalImputation_mean = pd.DataFrame(dic)"
   ]
  },
  {
   "cell_type": "code",
   "execution_count": 5,
   "metadata": {},
   "outputs": [
    {
     "output_type": "execute_result",
     "data": {
      "text/plain": [
       "    f1   f2    f3     f4  Class\n",
       "0  1.0  0.1  0.62  0.517      0\n",
       "1  4.0  0.6  0.22  0.879      1\n",
       "2  NaN  0.2  0.63  0.821      1\n",
       "3  NaN  0.7  0.36  0.018      1\n",
       "4  NaN  0.7  0.38  0.469      0\n",
       "5  8.0  0.3  0.07  0.969      0\n",
       "6  NaN  0.2  0.60  0.439      1\n",
       "7  NaN  0.8  0.17  0.177      0\n",
       "8  9.0  0.4  0.24  0.664      0\n",
       "9  NaN  0.3  0.05  0.007      1"
      ],
      "text/html": "<div>\n<style scoped>\n    .dataframe tbody tr th:only-of-type {\n        vertical-align: middle;\n    }\n\n    .dataframe tbody tr th {\n        vertical-align: top;\n    }\n\n    .dataframe thead th {\n        text-align: right;\n    }\n</style>\n<table border=\"1\" class=\"dataframe\">\n  <thead>\n    <tr style=\"text-align: right;\">\n      <th></th>\n      <th>f1</th>\n      <th>f2</th>\n      <th>f3</th>\n      <th>f4</th>\n      <th>Class</th>\n    </tr>\n  </thead>\n  <tbody>\n    <tr>\n      <th>0</th>\n      <td>1.0</td>\n      <td>0.1</td>\n      <td>0.62</td>\n      <td>0.517</td>\n      <td>0</td>\n    </tr>\n    <tr>\n      <th>1</th>\n      <td>4.0</td>\n      <td>0.6</td>\n      <td>0.22</td>\n      <td>0.879</td>\n      <td>1</td>\n    </tr>\n    <tr>\n      <th>2</th>\n      <td>NaN</td>\n      <td>0.2</td>\n      <td>0.63</td>\n      <td>0.821</td>\n      <td>1</td>\n    </tr>\n    <tr>\n      <th>3</th>\n      <td>NaN</td>\n      <td>0.7</td>\n      <td>0.36</td>\n      <td>0.018</td>\n      <td>1</td>\n    </tr>\n    <tr>\n      <th>4</th>\n      <td>NaN</td>\n      <td>0.7</td>\n      <td>0.38</td>\n      <td>0.469</td>\n      <td>0</td>\n    </tr>\n    <tr>\n      <th>5</th>\n      <td>8.0</td>\n      <td>0.3</td>\n      <td>0.07</td>\n      <td>0.969</td>\n      <td>0</td>\n    </tr>\n    <tr>\n      <th>6</th>\n      <td>NaN</td>\n      <td>0.2</td>\n      <td>0.60</td>\n      <td>0.439</td>\n      <td>1</td>\n    </tr>\n    <tr>\n      <th>7</th>\n      <td>NaN</td>\n      <td>0.8</td>\n      <td>0.17</td>\n      <td>0.177</td>\n      <td>0</td>\n    </tr>\n    <tr>\n      <th>8</th>\n      <td>9.0</td>\n      <td>0.4</td>\n      <td>0.24</td>\n      <td>0.664</td>\n      <td>0</td>\n    </tr>\n    <tr>\n      <th>9</th>\n      <td>NaN</td>\n      <td>0.3</td>\n      <td>0.05</td>\n      <td>0.007</td>\n      <td>1</td>\n    </tr>\n  </tbody>\n</table>\n</div>"
     },
     "metadata": {},
     "execution_count": 5
    }
   ],
   "source": [
    "df_example_NormalImputation_mean"
   ]
  },
  {
   "cell_type": "code",
   "execution_count": 6,
   "metadata": {},
   "outputs": [
    {
     "output_type": "execute_result",
     "data": {
      "text/plain": [
       "    f1   f2    f3     f4  Class\n",
       "0  1.0  0.1  0.62  0.517      0\n",
       "1  4.0  0.6  0.22  0.879      1\n",
       "2  5.5  0.2  0.63  0.821      1\n",
       "3  5.5  0.7  0.36  0.018      1\n",
       "4  5.5  0.7  0.38  0.469      0\n",
       "5  8.0  0.3  0.07  0.969      0\n",
       "6  5.5  0.2  0.60  0.439      1\n",
       "7  5.5  0.8  0.17  0.177      0\n",
       "8  9.0  0.4  0.24  0.664      0\n",
       "9  5.5  0.3  0.05  0.007      1"
      ],
      "text/html": "<div>\n<style scoped>\n    .dataframe tbody tr th:only-of-type {\n        vertical-align: middle;\n    }\n\n    .dataframe tbody tr th {\n        vertical-align: top;\n    }\n\n    .dataframe thead th {\n        text-align: right;\n    }\n</style>\n<table border=\"1\" class=\"dataframe\">\n  <thead>\n    <tr style=\"text-align: right;\">\n      <th></th>\n      <th>f1</th>\n      <th>f2</th>\n      <th>f3</th>\n      <th>f4</th>\n      <th>Class</th>\n    </tr>\n  </thead>\n  <tbody>\n    <tr>\n      <th>0</th>\n      <td>1.0</td>\n      <td>0.1</td>\n      <td>0.62</td>\n      <td>0.517</td>\n      <td>0</td>\n    </tr>\n    <tr>\n      <th>1</th>\n      <td>4.0</td>\n      <td>0.6</td>\n      <td>0.22</td>\n      <td>0.879</td>\n      <td>1</td>\n    </tr>\n    <tr>\n      <th>2</th>\n      <td>5.5</td>\n      <td>0.2</td>\n      <td>0.63</td>\n      <td>0.821</td>\n      <td>1</td>\n    </tr>\n    <tr>\n      <th>3</th>\n      <td>5.5</td>\n      <td>0.7</td>\n      <td>0.36</td>\n      <td>0.018</td>\n      <td>1</td>\n    </tr>\n    <tr>\n      <th>4</th>\n      <td>5.5</td>\n      <td>0.7</td>\n      <td>0.38</td>\n      <td>0.469</td>\n      <td>0</td>\n    </tr>\n    <tr>\n      <th>5</th>\n      <td>8.0</td>\n      <td>0.3</td>\n      <td>0.07</td>\n      <td>0.969</td>\n      <td>0</td>\n    </tr>\n    <tr>\n      <th>6</th>\n      <td>5.5</td>\n      <td>0.2</td>\n      <td>0.60</td>\n      <td>0.439</td>\n      <td>1</td>\n    </tr>\n    <tr>\n      <th>7</th>\n      <td>5.5</td>\n      <td>0.8</td>\n      <td>0.17</td>\n      <td>0.177</td>\n      <td>0</td>\n    </tr>\n    <tr>\n      <th>8</th>\n      <td>9.0</td>\n      <td>0.4</td>\n      <td>0.24</td>\n      <td>0.664</td>\n      <td>0</td>\n    </tr>\n    <tr>\n      <th>9</th>\n      <td>5.5</td>\n      <td>0.3</td>\n      <td>0.05</td>\n      <td>0.007</td>\n      <td>1</td>\n    </tr>\n  </tbody>\n</table>\n</div>"
     },
     "metadata": {},
     "execution_count": 6
    }
   ],
   "source": [
    "from sklearn.impute import SimpleImputer\n",
    "#Instantiate SimpleImputer\n",
    "si=SimpleImputer(missing_values = np.nan, strategy='mean')\n",
    "si.fit(df_example_NormalImputation_mean[['f1']])\n",
    "  \n",
    "#Filling missing data with mean\n",
    "df_example_NormalImputation_mean[['f1']] = si.transform(df_example_NormalImputation_mean[['f1']])\n",
    "\n",
    "df_example_NormalImputation_mean"
   ]
  },
  {
   "source": [
    "As we could see, the missing values were filling with 5.5 that is the mean of the column 'f1'\n",
    "\n",
    "### Create the same dataframe example to fill missing values with median method"
   ],
   "cell_type": "markdown",
   "metadata": {}
  },
  {
   "cell_type": "code",
   "execution_count": 7,
   "metadata": {},
   "outputs": [
    {
     "output_type": "execute_result",
     "data": {
      "text/plain": [
       "    f1   f2    f3     f4  Class\n",
       "0  1.0  0.1  0.62  0.517      0\n",
       "1  4.0  0.6  0.22  0.879      1\n",
       "2  NaN  0.2  0.63  0.821      1\n",
       "3  NaN  0.7  0.36  0.018      1\n",
       "4  NaN  0.7  0.38  0.469      0\n",
       "5  8.0  0.3  0.07  0.969      0\n",
       "6  NaN  0.2  0.60  0.439      1\n",
       "7  NaN  0.8  0.17  0.177      0\n",
       "8  9.0  0.4  0.24  0.664      0\n",
       "9  NaN  0.3  0.05  0.007      1"
      ],
      "text/html": "<div>\n<style scoped>\n    .dataframe tbody tr th:only-of-type {\n        vertical-align: middle;\n    }\n\n    .dataframe tbody tr th {\n        vertical-align: top;\n    }\n\n    .dataframe thead th {\n        text-align: right;\n    }\n</style>\n<table border=\"1\" class=\"dataframe\">\n  <thead>\n    <tr style=\"text-align: right;\">\n      <th></th>\n      <th>f1</th>\n      <th>f2</th>\n      <th>f3</th>\n      <th>f4</th>\n      <th>Class</th>\n    </tr>\n  </thead>\n  <tbody>\n    <tr>\n      <th>0</th>\n      <td>1.0</td>\n      <td>0.1</td>\n      <td>0.62</td>\n      <td>0.517</td>\n      <td>0</td>\n    </tr>\n    <tr>\n      <th>1</th>\n      <td>4.0</td>\n      <td>0.6</td>\n      <td>0.22</td>\n      <td>0.879</td>\n      <td>1</td>\n    </tr>\n    <tr>\n      <th>2</th>\n      <td>NaN</td>\n      <td>0.2</td>\n      <td>0.63</td>\n      <td>0.821</td>\n      <td>1</td>\n    </tr>\n    <tr>\n      <th>3</th>\n      <td>NaN</td>\n      <td>0.7</td>\n      <td>0.36</td>\n      <td>0.018</td>\n      <td>1</td>\n    </tr>\n    <tr>\n      <th>4</th>\n      <td>NaN</td>\n      <td>0.7</td>\n      <td>0.38</td>\n      <td>0.469</td>\n      <td>0</td>\n    </tr>\n    <tr>\n      <th>5</th>\n      <td>8.0</td>\n      <td>0.3</td>\n      <td>0.07</td>\n      <td>0.969</td>\n      <td>0</td>\n    </tr>\n    <tr>\n      <th>6</th>\n      <td>NaN</td>\n      <td>0.2</td>\n      <td>0.60</td>\n      <td>0.439</td>\n      <td>1</td>\n    </tr>\n    <tr>\n      <th>7</th>\n      <td>NaN</td>\n      <td>0.8</td>\n      <td>0.17</td>\n      <td>0.177</td>\n      <td>0</td>\n    </tr>\n    <tr>\n      <th>8</th>\n      <td>9.0</td>\n      <td>0.4</td>\n      <td>0.24</td>\n      <td>0.664</td>\n      <td>0</td>\n    </tr>\n    <tr>\n      <th>9</th>\n      <td>NaN</td>\n      <td>0.3</td>\n      <td>0.05</td>\n      <td>0.007</td>\n      <td>1</td>\n    </tr>\n  </tbody>\n</table>\n</div>"
     },
     "metadata": {},
     "execution_count": 7
    }
   ],
   "source": [
    "df_example_NormalImputation_median = pd.DataFrame(dic)\n",
    "df_example_NormalImputation_median"
   ]
  },
  {
   "cell_type": "code",
   "execution_count": 8,
   "metadata": {},
   "outputs": [
    {
     "output_type": "execute_result",
     "data": {
      "text/plain": [
       "    f1   f2    f3     f4  Class\n",
       "0  1.0  0.1  0.62  0.517      0\n",
       "1  4.0  0.6  0.22  0.879      1\n",
       "2  6.0  0.2  0.63  0.821      1\n",
       "3  6.0  0.7  0.36  0.018      1\n",
       "4  6.0  0.7  0.38  0.469      0\n",
       "5  8.0  0.3  0.07  0.969      0\n",
       "6  6.0  0.2  0.60  0.439      1\n",
       "7  6.0  0.8  0.17  0.177      0\n",
       "8  9.0  0.4  0.24  0.664      0\n",
       "9  6.0  0.3  0.05  0.007      1"
      ],
      "text/html": "<div>\n<style scoped>\n    .dataframe tbody tr th:only-of-type {\n        vertical-align: middle;\n    }\n\n    .dataframe tbody tr th {\n        vertical-align: top;\n    }\n\n    .dataframe thead th {\n        text-align: right;\n    }\n</style>\n<table border=\"1\" class=\"dataframe\">\n  <thead>\n    <tr style=\"text-align: right;\">\n      <th></th>\n      <th>f1</th>\n      <th>f2</th>\n      <th>f3</th>\n      <th>f4</th>\n      <th>Class</th>\n    </tr>\n  </thead>\n  <tbody>\n    <tr>\n      <th>0</th>\n      <td>1.0</td>\n      <td>0.1</td>\n      <td>0.62</td>\n      <td>0.517</td>\n      <td>0</td>\n    </tr>\n    <tr>\n      <th>1</th>\n      <td>4.0</td>\n      <td>0.6</td>\n      <td>0.22</td>\n      <td>0.879</td>\n      <td>1</td>\n    </tr>\n    <tr>\n      <th>2</th>\n      <td>6.0</td>\n      <td>0.2</td>\n      <td>0.63</td>\n      <td>0.821</td>\n      <td>1</td>\n    </tr>\n    <tr>\n      <th>3</th>\n      <td>6.0</td>\n      <td>0.7</td>\n      <td>0.36</td>\n      <td>0.018</td>\n      <td>1</td>\n    </tr>\n    <tr>\n      <th>4</th>\n      <td>6.0</td>\n      <td>0.7</td>\n      <td>0.38</td>\n      <td>0.469</td>\n      <td>0</td>\n    </tr>\n    <tr>\n      <th>5</th>\n      <td>8.0</td>\n      <td>0.3</td>\n      <td>0.07</td>\n      <td>0.969</td>\n      <td>0</td>\n    </tr>\n    <tr>\n      <th>6</th>\n      <td>6.0</td>\n      <td>0.2</td>\n      <td>0.60</td>\n      <td>0.439</td>\n      <td>1</td>\n    </tr>\n    <tr>\n      <th>7</th>\n      <td>6.0</td>\n      <td>0.8</td>\n      <td>0.17</td>\n      <td>0.177</td>\n      <td>0</td>\n    </tr>\n    <tr>\n      <th>8</th>\n      <td>9.0</td>\n      <td>0.4</td>\n      <td>0.24</td>\n      <td>0.664</td>\n      <td>0</td>\n    </tr>\n    <tr>\n      <th>9</th>\n      <td>6.0</td>\n      <td>0.3</td>\n      <td>0.05</td>\n      <td>0.007</td>\n      <td>1</td>\n    </tr>\n  </tbody>\n</table>\n</div>"
     },
     "metadata": {},
     "execution_count": 8
    }
   ],
   "source": [
    "from sklearn.impute import SimpleImputer\n",
    "#Instantiate SimpleImputer\n",
    "si=SimpleImputer(missing_values = np.nan, strategy='median')\n",
    "si.fit(df_example_NormalImputation_median[['f1']])\n",
    "  \n",
    "#Filling missing data with median\n",
    "df_example_NormalImputation_median[['f1']] = si.transform(df_example_NormalImputation_median[['f1']])\n",
    "\n",
    "df_example_NormalImputation_median"
   ]
  },
  {
   "source": [
    "As we could see, the missing values were filling with 6.0 that is the median of the column 'f1'"
   ],
   "cell_type": "markdown",
   "metadata": {}
  },
  {
   "source": [
    "## 3.Imputation based on class label\n",
    "Here, we take based on class\n",
    "\n",
    "It takes the average of all the values in the feature f1 that belongs to class 0 or 1 and replace the missing value. Same with median and mode."
   ],
   "cell_type": "markdown",
   "metadata": {}
  },
  {
   "cell_type": "code",
   "execution_count": 9,
   "metadata": {},
   "outputs": [],
   "source": [
    "#Calculate the mean of the f1 column where class label is equal to 1 and the mean of f1 column where class label is equal to 0\n",
    "mean_cero = df_example.f1[df_example['Class']==0].mean()\n",
    "mean_one  = df_example.f1[df_example['Class']==1].mean()"
   ]
  },
  {
   "source": [
    "Now, create a Series where replace the missing values with each mean... based on the class label (0 or 1)"
   ],
   "cell_type": "markdown",
   "metadata": {}
  },
  {
   "cell_type": "code",
   "execution_count": 10,
   "metadata": {},
   "outputs": [],
   "source": [
    "f1_0 = df_example.f1[df_example['Class']==0].replace(np.nan, mean_cero)"
   ]
  },
  {
   "cell_type": "code",
   "execution_count": 11,
   "metadata": {},
   "outputs": [],
   "source": [
    "f1_1 = df_example.f1[df_example['Class']==1].replace(np.nan, mean_one)"
   ]
  },
  {
   "cell_type": "code",
   "execution_count": 12,
   "metadata": {},
   "outputs": [],
   "source": [
    "#Join both series and sort the index \n",
    "f1_total = f1_0.append(f1_1).sort_index()"
   ]
  },
  {
   "cell_type": "code",
   "execution_count": 13,
   "metadata": {},
   "outputs": [],
   "source": [
    "# Delete the f1 column with missing values\n",
    "df_example = df_example.drop(['f1'], axis=1)"
   ]
  },
  {
   "cell_type": "code",
   "execution_count": 14,
   "metadata": {},
   "outputs": [],
   "source": [
    "# Aggregate to dataframe, the new f1 column with values based on class label\n",
    "df_example['f1'] = f1_total"
   ]
  },
  {
   "cell_type": "code",
   "execution_count": 15,
   "metadata": {},
   "outputs": [
    {
     "output_type": "execute_result",
     "data": {
      "text/plain": [
       "    f1   f2    f3     f4  Class\n",
       "0  1.0  0.1  0.62  0.517      0\n",
       "1  4.0  0.6  0.22  0.879      1\n",
       "2  4.0  0.2  0.63  0.821      1\n",
       "3  4.0  0.7  0.36  0.018      1\n",
       "4  6.0  0.7  0.38  0.469      0\n",
       "5  8.0  0.3  0.07  0.969      0\n",
       "6  4.0  0.2  0.60  0.439      1\n",
       "7  6.0  0.8  0.17  0.177      0\n",
       "8  9.0  0.4  0.24  0.664      0\n",
       "9  4.0  0.3  0.05  0.007      1"
      ],
      "text/html": "<div>\n<style scoped>\n    .dataframe tbody tr th:only-of-type {\n        vertical-align: middle;\n    }\n\n    .dataframe tbody tr th {\n        vertical-align: top;\n    }\n\n    .dataframe thead th {\n        text-align: right;\n    }\n</style>\n<table border=\"1\" class=\"dataframe\">\n  <thead>\n    <tr style=\"text-align: right;\">\n      <th></th>\n      <th>f1</th>\n      <th>f2</th>\n      <th>f3</th>\n      <th>f4</th>\n      <th>Class</th>\n    </tr>\n  </thead>\n  <tbody>\n    <tr>\n      <th>0</th>\n      <td>1.0</td>\n      <td>0.1</td>\n      <td>0.62</td>\n      <td>0.517</td>\n      <td>0</td>\n    </tr>\n    <tr>\n      <th>1</th>\n      <td>4.0</td>\n      <td>0.6</td>\n      <td>0.22</td>\n      <td>0.879</td>\n      <td>1</td>\n    </tr>\n    <tr>\n      <th>2</th>\n      <td>4.0</td>\n      <td>0.2</td>\n      <td>0.63</td>\n      <td>0.821</td>\n      <td>1</td>\n    </tr>\n    <tr>\n      <th>3</th>\n      <td>4.0</td>\n      <td>0.7</td>\n      <td>0.36</td>\n      <td>0.018</td>\n      <td>1</td>\n    </tr>\n    <tr>\n      <th>4</th>\n      <td>6.0</td>\n      <td>0.7</td>\n      <td>0.38</td>\n      <td>0.469</td>\n      <td>0</td>\n    </tr>\n    <tr>\n      <th>5</th>\n      <td>8.0</td>\n      <td>0.3</td>\n      <td>0.07</td>\n      <td>0.969</td>\n      <td>0</td>\n    </tr>\n    <tr>\n      <th>6</th>\n      <td>4.0</td>\n      <td>0.2</td>\n      <td>0.60</td>\n      <td>0.439</td>\n      <td>1</td>\n    </tr>\n    <tr>\n      <th>7</th>\n      <td>6.0</td>\n      <td>0.8</td>\n      <td>0.17</td>\n      <td>0.177</td>\n      <td>0</td>\n    </tr>\n    <tr>\n      <th>8</th>\n      <td>9.0</td>\n      <td>0.4</td>\n      <td>0.24</td>\n      <td>0.664</td>\n      <td>0</td>\n    </tr>\n    <tr>\n      <th>9</th>\n      <td>4.0</td>\n      <td>0.3</td>\n      <td>0.05</td>\n      <td>0.007</td>\n      <td>1</td>\n    </tr>\n  </tbody>\n</table>\n</div>"
     },
     "metadata": {},
     "execution_count": 15
    }
   ],
   "source": [
    "# Sort the columns and show the new dataframe without missing values\n",
    "df_example = df_example[['f1','f2','f3','f4','Class']]\n",
    "df_example"
   ]
  },
  {
   "source": [
    "## 4.Model-based imputation\n",
    "\n",
    "The idea is take feature f1 as the class and all the remaining columns as feature. Then, train the data with any model and predict the missing values.\n",
    "\n",
    "Here, we have train data and test data that has missing values in feature f1. We are going to use the KNN algorithm and take k=2 to train the model since it is simple and uses neighborhood concept."
   ],
   "cell_type": "markdown",
   "metadata": {}
  },
  {
   "source": [
    "### TRAIN DATAFRAME"
   ],
   "cell_type": "markdown",
   "metadata": {}
  },
  {
   "cell_type": "code",
   "execution_count": 16,
   "metadata": {},
   "outputs": [],
   "source": [
    "dic = {'f1': [9,4,3,3,7,7,4,1,9,9],'f2':[0.1,0.6,0.2,0.7,0.7,0.3,0.2,0.8,0.4,0.3], 'f3': [0.62,0.22,0.63,0.36,0.38,0.07,0.6,0.17,0.24,0.05],'f4': [0.517,0.879,0.821,0.018,0.469,0.969,0.439,0.177,0.664,0.007], 'Class':[0,1,1,1,0,0,1,0,0,1]}\n",
    "df_train = pd.DataFrame(dic)"
   ]
  },
  {
   "cell_type": "code",
   "execution_count": 17,
   "metadata": {},
   "outputs": [
    {
     "output_type": "execute_result",
     "data": {
      "text/plain": [
       "   f1   f2    f3     f4  Class\n",
       "0   9  0.1  0.62  0.517      0\n",
       "1   4  0.6  0.22  0.879      1\n",
       "2   3  0.2  0.63  0.821      1\n",
       "3   3  0.7  0.36  0.018      1\n",
       "4   7  0.7  0.38  0.469      0\n",
       "5   7  0.3  0.07  0.969      0\n",
       "6   4  0.2  0.60  0.439      1\n",
       "7   1  0.8  0.17  0.177      0\n",
       "8   9  0.4  0.24  0.664      0\n",
       "9   9  0.3  0.05  0.007      1"
      ],
      "text/html": "<div>\n<style scoped>\n    .dataframe tbody tr th:only-of-type {\n        vertical-align: middle;\n    }\n\n    .dataframe tbody tr th {\n        vertical-align: top;\n    }\n\n    .dataframe thead th {\n        text-align: right;\n    }\n</style>\n<table border=\"1\" class=\"dataframe\">\n  <thead>\n    <tr style=\"text-align: right;\">\n      <th></th>\n      <th>f1</th>\n      <th>f2</th>\n      <th>f3</th>\n      <th>f4</th>\n      <th>Class</th>\n    </tr>\n  </thead>\n  <tbody>\n    <tr>\n      <th>0</th>\n      <td>9</td>\n      <td>0.1</td>\n      <td>0.62</td>\n      <td>0.517</td>\n      <td>0</td>\n    </tr>\n    <tr>\n      <th>1</th>\n      <td>4</td>\n      <td>0.6</td>\n      <td>0.22</td>\n      <td>0.879</td>\n      <td>1</td>\n    </tr>\n    <tr>\n      <th>2</th>\n      <td>3</td>\n      <td>0.2</td>\n      <td>0.63</td>\n      <td>0.821</td>\n      <td>1</td>\n    </tr>\n    <tr>\n      <th>3</th>\n      <td>3</td>\n      <td>0.7</td>\n      <td>0.36</td>\n      <td>0.018</td>\n      <td>1</td>\n    </tr>\n    <tr>\n      <th>4</th>\n      <td>7</td>\n      <td>0.7</td>\n      <td>0.38</td>\n      <td>0.469</td>\n      <td>0</td>\n    </tr>\n    <tr>\n      <th>5</th>\n      <td>7</td>\n      <td>0.3</td>\n      <td>0.07</td>\n      <td>0.969</td>\n      <td>0</td>\n    </tr>\n    <tr>\n      <th>6</th>\n      <td>4</td>\n      <td>0.2</td>\n      <td>0.60</td>\n      <td>0.439</td>\n      <td>1</td>\n    </tr>\n    <tr>\n      <th>7</th>\n      <td>1</td>\n      <td>0.8</td>\n      <td>0.17</td>\n      <td>0.177</td>\n      <td>0</td>\n    </tr>\n    <tr>\n      <th>8</th>\n      <td>9</td>\n      <td>0.4</td>\n      <td>0.24</td>\n      <td>0.664</td>\n      <td>0</td>\n    </tr>\n    <tr>\n      <th>9</th>\n      <td>9</td>\n      <td>0.3</td>\n      <td>0.05</td>\n      <td>0.007</td>\n      <td>1</td>\n    </tr>\n  </tbody>\n</table>\n</div>"
     },
     "metadata": {},
     "execution_count": 17
    }
   ],
   "source": [
    "df_train"
   ]
  },
  {
   "source": [
    "### TEST DATAFRAME"
   ],
   "cell_type": "markdown",
   "metadata": {}
  },
  {
   "cell_type": "code",
   "execution_count": 18,
   "metadata": {},
   "outputs": [],
   "source": [
    "dic = {'f1': [1,4,np.nan,np.nan,np.nan,8,np.nan,np.nan,9,np.nan],'f2':[0.1,0.6,0.2,0.7,0.7,0.3,0.2,0.8,0.4,0.3], 'f3': [0.62,0.22,0.63,0.36,0.38,0.07,0.6,0.17,0.24,0.05],'f4': [0.517,0.879,0.821,0.018,0.469,0.969,0.439,0.177,0.664,0.007], 'Class':[0,1,1,1,0,0,1,0,0,1]}\n",
    "df_test = pd.DataFrame(dic)"
   ]
  },
  {
   "cell_type": "code",
   "execution_count": 19,
   "metadata": {},
   "outputs": [
    {
     "output_type": "execute_result",
     "data": {
      "text/plain": [
       "    f1   f2    f3     f4  Class\n",
       "0  1.0  0.1  0.62  0.517      0\n",
       "1  4.0  0.6  0.22  0.879      1\n",
       "2  NaN  0.2  0.63  0.821      1\n",
       "3  NaN  0.7  0.36  0.018      1\n",
       "4  NaN  0.7  0.38  0.469      0\n",
       "5  8.0  0.3  0.07  0.969      0\n",
       "6  NaN  0.2  0.60  0.439      1\n",
       "7  NaN  0.8  0.17  0.177      0\n",
       "8  9.0  0.4  0.24  0.664      0\n",
       "9  NaN  0.3  0.05  0.007      1"
      ],
      "text/html": "<div>\n<style scoped>\n    .dataframe tbody tr th:only-of-type {\n        vertical-align: middle;\n    }\n\n    .dataframe tbody tr th {\n        vertical-align: top;\n    }\n\n    .dataframe thead th {\n        text-align: right;\n    }\n</style>\n<table border=\"1\" class=\"dataframe\">\n  <thead>\n    <tr style=\"text-align: right;\">\n      <th></th>\n      <th>f1</th>\n      <th>f2</th>\n      <th>f3</th>\n      <th>f4</th>\n      <th>Class</th>\n    </tr>\n  </thead>\n  <tbody>\n    <tr>\n      <th>0</th>\n      <td>1.0</td>\n      <td>0.1</td>\n      <td>0.62</td>\n      <td>0.517</td>\n      <td>0</td>\n    </tr>\n    <tr>\n      <th>1</th>\n      <td>4.0</td>\n      <td>0.6</td>\n      <td>0.22</td>\n      <td>0.879</td>\n      <td>1</td>\n    </tr>\n    <tr>\n      <th>2</th>\n      <td>NaN</td>\n      <td>0.2</td>\n      <td>0.63</td>\n      <td>0.821</td>\n      <td>1</td>\n    </tr>\n    <tr>\n      <th>3</th>\n      <td>NaN</td>\n      <td>0.7</td>\n      <td>0.36</td>\n      <td>0.018</td>\n      <td>1</td>\n    </tr>\n    <tr>\n      <th>4</th>\n      <td>NaN</td>\n      <td>0.7</td>\n      <td>0.38</td>\n      <td>0.469</td>\n      <td>0</td>\n    </tr>\n    <tr>\n      <th>5</th>\n      <td>8.0</td>\n      <td>0.3</td>\n      <td>0.07</td>\n      <td>0.969</td>\n      <td>0</td>\n    </tr>\n    <tr>\n      <th>6</th>\n      <td>NaN</td>\n      <td>0.2</td>\n      <td>0.60</td>\n      <td>0.439</td>\n      <td>1</td>\n    </tr>\n    <tr>\n      <th>7</th>\n      <td>NaN</td>\n      <td>0.8</td>\n      <td>0.17</td>\n      <td>0.177</td>\n      <td>0</td>\n    </tr>\n    <tr>\n      <th>8</th>\n      <td>9.0</td>\n      <td>0.4</td>\n      <td>0.24</td>\n      <td>0.664</td>\n      <td>0</td>\n    </tr>\n    <tr>\n      <th>9</th>\n      <td>NaN</td>\n      <td>0.3</td>\n      <td>0.05</td>\n      <td>0.007</td>\n      <td>1</td>\n    </tr>\n  </tbody>\n</table>\n</div>"
     },
     "metadata": {},
     "execution_count": 19
    }
   ],
   "source": [
    "df_test"
   ]
  },
  {
   "cell_type": "code",
   "execution_count": 20,
   "metadata": {},
   "outputs": [],
   "source": [
    "#Define the train data and test data\n",
    "train_data = df_train\n",
    "test_data = df_test"
   ]
  },
  {
   "cell_type": "code",
   "execution_count": 21,
   "metadata": {},
   "outputs": [],
   "source": [
    "#Split the data \n",
    "X_train = train_data.drop(['f1'], axis=1)\n",
    "Y_train = train_data['f1']\n",
    "X_test = test_data.drop(['f1'],axis=1)"
   ]
  },
  {
   "cell_type": "code",
   "execution_count": 22,
   "metadata": {},
   "outputs": [
    {
     "output_type": "execute_result",
     "data": {
      "text/plain": [
       "array([9, 3, 3, 3, 1, 7, 3, 1, 7, 3], dtype=int64)"
      ]
     },
     "metadata": {},
     "execution_count": 22
    }
   ],
   "source": [
    "#With KNN impute the missing values\n",
    "from sklearn.neighbors import KNeighborsClassifier\n",
    "knn = KNeighborsClassifier(n_neighbors = 2)\n",
    "knn.fit(X_train, Y_train)\n",
    "f1_ = knn.predict(X_test)\n",
    "f1_"
   ]
  },
  {
   "cell_type": "code",
   "execution_count": 23,
   "metadata": {},
   "outputs": [
    {
     "output_type": "stream",
     "name": "stdout",
     "text": [
      "With 1 Neightborhs, f1 predicted is: [9 4 3 3 7 7 4 1 9 9]\nmean: 5.6\nmedian: 5.5 \n\nWith 2 Neightborhs, f1 predicted is: [9 3 3 3 1 7 3 1 7 3]\nmean: 4.0\nmedian: 3.0 \n\nWith 3 Neightborhs, f1 predicted is: [9 4 4 3 1 7 3 1 7 3]\nmean: 4.2\nmedian: 3.5 \n\nWith 4 Neightborhs, f1 predicted is: [7 3 3 4 9 7 3 9 7 4]\nmean: 5.6\nmedian: 5.5 \n\nWith 5 Neightborhs, f1 predicted is: [7 3 3 3 7 7 3 7 7 3]\nmean: 5.0\nmedian: 5.0 \n\nWith 6 Neightborhs, f1 predicted is: [7 3 3 3 7 7 3 7 7 3]\nmean: 5.0\nmedian: 5.0 \n\nWith 7 Neightborhs, f1 predicted is: [7 3 9 3 7 7 9 9 7 3]\nmean: 6.4\nmedian: 7.0 \n\nWith 8 Neightborhs, f1 predicted is: [4 3 9 3 4 4 9 9 4 3]\nmean: 5.2\nmedian: 4.0 \n\n"
     ]
    }
   ],
   "source": [
    "#Implement the algorithm with different K value\n",
    "\n",
    "neighbors = np.arange(1,9) #Creacion de array\n",
    "train_accuaracy = np.empty(len(neighbors))\n",
    "test_accuaracy = np.empty(len(neighbors))\n",
    "\n",
    "for i, k in enumerate(neighbors):\n",
    "    knn = KNeighborsClassifier(n_neighbors= k)\n",
    "    knn.fit(X_train, Y_train)\n",
    "    Y_pred = knn.predict(X_test)\n",
    "    print(\"With\",k,\"Neightborhs, f1 predicted is:\",Y_pred)\n",
    "    print(\"mean:\", Y_pred.mean())\n",
    "    print(\"median:\", np.median(Y_pred), \"\\n\")"
   ]
  },
  {
   "cell_type": "code",
   "execution_count": 24,
   "metadata": {},
   "outputs": [
    {
     "output_type": "execute_result",
     "data": {
      "text/plain": [
       "   f1   f2    f3     f4  Class\n",
       "0   9  0.1  0.62  0.517      0\n",
       "1   3  0.6  0.22  0.879      1\n",
       "2   3  0.2  0.63  0.821      1\n",
       "3   3  0.7  0.36  0.018      1\n",
       "4   1  0.7  0.38  0.469      0\n",
       "5   7  0.3  0.07  0.969      0\n",
       "6   3  0.2  0.60  0.439      1\n",
       "7   1  0.8  0.17  0.177      0\n",
       "8   7  0.4  0.24  0.664      0\n",
       "9   3  0.3  0.05  0.007      1"
      ],
      "text/html": "<div>\n<style scoped>\n    .dataframe tbody tr th:only-of-type {\n        vertical-align: middle;\n    }\n\n    .dataframe tbody tr th {\n        vertical-align: top;\n    }\n\n    .dataframe thead th {\n        text-align: right;\n    }\n</style>\n<table border=\"1\" class=\"dataframe\">\n  <thead>\n    <tr style=\"text-align: right;\">\n      <th></th>\n      <th>f1</th>\n      <th>f2</th>\n      <th>f3</th>\n      <th>f4</th>\n      <th>Class</th>\n    </tr>\n  </thead>\n  <tbody>\n    <tr>\n      <th>0</th>\n      <td>9</td>\n      <td>0.1</td>\n      <td>0.62</td>\n      <td>0.517</td>\n      <td>0</td>\n    </tr>\n    <tr>\n      <th>1</th>\n      <td>3</td>\n      <td>0.6</td>\n      <td>0.22</td>\n      <td>0.879</td>\n      <td>1</td>\n    </tr>\n    <tr>\n      <th>2</th>\n      <td>3</td>\n      <td>0.2</td>\n      <td>0.63</td>\n      <td>0.821</td>\n      <td>1</td>\n    </tr>\n    <tr>\n      <th>3</th>\n      <td>3</td>\n      <td>0.7</td>\n      <td>0.36</td>\n      <td>0.018</td>\n      <td>1</td>\n    </tr>\n    <tr>\n      <th>4</th>\n      <td>1</td>\n      <td>0.7</td>\n      <td>0.38</td>\n      <td>0.469</td>\n      <td>0</td>\n    </tr>\n    <tr>\n      <th>5</th>\n      <td>7</td>\n      <td>0.3</td>\n      <td>0.07</td>\n      <td>0.969</td>\n      <td>0</td>\n    </tr>\n    <tr>\n      <th>6</th>\n      <td>3</td>\n      <td>0.2</td>\n      <td>0.60</td>\n      <td>0.439</td>\n      <td>1</td>\n    </tr>\n    <tr>\n      <th>7</th>\n      <td>1</td>\n      <td>0.8</td>\n      <td>0.17</td>\n      <td>0.177</td>\n      <td>0</td>\n    </tr>\n    <tr>\n      <th>8</th>\n      <td>7</td>\n      <td>0.4</td>\n      <td>0.24</td>\n      <td>0.664</td>\n      <td>0</td>\n    </tr>\n    <tr>\n      <th>9</th>\n      <td>3</td>\n      <td>0.3</td>\n      <td>0.05</td>\n      <td>0.007</td>\n      <td>1</td>\n    </tr>\n  </tbody>\n</table>\n</div>"
     },
     "metadata": {},
     "execution_count": 24
    }
   ],
   "source": [
    "# Delete the f1 column with missing values\n",
    "df_test = df_test.drop(['f1'],axis=1)\n",
    "# Aggregate to dataframe, the new f1 column with values based on class label\n",
    "df_test['f1'] = f1_\n",
    "# Sort the columns and show the new dataframe without missing values\n",
    "df_test = df_test[['f1','f2','f3','f4','Class']]\n",
    "df_test"
   ]
  },
  {
   "source": [
    "## 5.CREATING MISSING VALUE FEATURE\n",
    "\n",
    "In addition to performing imputation on the features, we can create new corresponding features which will have binary values that say whether the data is missing in the features or not with 0 as not missing and 1 as missing. We do this for the record and also missing values can be a source of useful information."
   ],
   "cell_type": "markdown",
   "metadata": {}
  },
  {
   "cell_type": "code",
   "execution_count": 25,
   "metadata": {},
   "outputs": [],
   "source": [
    "#Create the dataframe example with missing values\n",
    "dic = {'f1': [1,4,np.nan,np.nan,np.nan,8,np.nan,np.nan,9,np.nan],'f2':[0.1,0.6,0.2,0.7,0.7,0.3,0.2,0.8,0.4,0.3], 'f3': [0.62,0.22,0.63,0.36,0.38,0.07,0.6,0.17,0.24,0.05],'f4': [0.517,0.879,0.821,0.018,0.469,0.969,0.439,0.177,0.664,0.007], 'Class':[0,1,1,1,0,0,1,0,0,1]}\n",
    "df = pd.DataFrame(dic)"
   ]
  },
  {
   "cell_type": "code",
   "execution_count": 26,
   "metadata": {},
   "outputs": [],
   "source": [
    "#Find location where exists missing values\n",
    "df_ = df.isna()"
   ]
  },
  {
   "cell_type": "code",
   "execution_count": 27,
   "metadata": {},
   "outputs": [
    {
     "output_type": "execute_result",
     "data": {
      "text/plain": [
       "      f1     f2     f3     f4  Class\n",
       "0  False  False  False  False  False\n",
       "1  False  False  False  False  False\n",
       "2   True  False  False  False  False\n",
       "3   True  False  False  False  False\n",
       "4   True  False  False  False  False\n",
       "5  False  False  False  False  False\n",
       "6   True  False  False  False  False\n",
       "7   True  False  False  False  False\n",
       "8  False  False  False  False  False\n",
       "9   True  False  False  False  False"
      ],
      "text/html": "<div>\n<style scoped>\n    .dataframe tbody tr th:only-of-type {\n        vertical-align: middle;\n    }\n\n    .dataframe tbody tr th {\n        vertical-align: top;\n    }\n\n    .dataframe thead th {\n        text-align: right;\n    }\n</style>\n<table border=\"1\" class=\"dataframe\">\n  <thead>\n    <tr style=\"text-align: right;\">\n      <th></th>\n      <th>f1</th>\n      <th>f2</th>\n      <th>f3</th>\n      <th>f4</th>\n      <th>Class</th>\n    </tr>\n  </thead>\n  <tbody>\n    <tr>\n      <th>0</th>\n      <td>False</td>\n      <td>False</td>\n      <td>False</td>\n      <td>False</td>\n      <td>False</td>\n    </tr>\n    <tr>\n      <th>1</th>\n      <td>False</td>\n      <td>False</td>\n      <td>False</td>\n      <td>False</td>\n      <td>False</td>\n    </tr>\n    <tr>\n      <th>2</th>\n      <td>True</td>\n      <td>False</td>\n      <td>False</td>\n      <td>False</td>\n      <td>False</td>\n    </tr>\n    <tr>\n      <th>3</th>\n      <td>True</td>\n      <td>False</td>\n      <td>False</td>\n      <td>False</td>\n      <td>False</td>\n    </tr>\n    <tr>\n      <th>4</th>\n      <td>True</td>\n      <td>False</td>\n      <td>False</td>\n      <td>False</td>\n      <td>False</td>\n    </tr>\n    <tr>\n      <th>5</th>\n      <td>False</td>\n      <td>False</td>\n      <td>False</td>\n      <td>False</td>\n      <td>False</td>\n    </tr>\n    <tr>\n      <th>6</th>\n      <td>True</td>\n      <td>False</td>\n      <td>False</td>\n      <td>False</td>\n      <td>False</td>\n    </tr>\n    <tr>\n      <th>7</th>\n      <td>True</td>\n      <td>False</td>\n      <td>False</td>\n      <td>False</td>\n      <td>False</td>\n    </tr>\n    <tr>\n      <th>8</th>\n      <td>False</td>\n      <td>False</td>\n      <td>False</td>\n      <td>False</td>\n      <td>False</td>\n    </tr>\n    <tr>\n      <th>9</th>\n      <td>True</td>\n      <td>False</td>\n      <td>False</td>\n      <td>False</td>\n      <td>False</td>\n    </tr>\n  </tbody>\n</table>\n</div>"
     },
     "metadata": {},
     "execution_count": 27
    }
   ],
   "source": [
    "df_"
   ]
  },
  {
   "cell_type": "code",
   "execution_count": 28,
   "metadata": {},
   "outputs": [],
   "source": [
    "#Replace False -> 0 and True -> 1\n",
    "df_=df_.replace([False,True],[0,1])"
   ]
  },
  {
   "cell_type": "code",
   "execution_count": 29,
   "metadata": {},
   "outputs": [
    {
     "output_type": "execute_result",
     "data": {
      "text/plain": [
       "   f1  f2  f3  f4  Class\n",
       "0   0   0   0   0      0\n",
       "1   0   0   0   0      0\n",
       "2   1   0   0   0      0\n",
       "3   1   0   0   0      0\n",
       "4   1   0   0   0      0\n",
       "5   0   0   0   0      0\n",
       "6   1   0   0   0      0\n",
       "7   1   0   0   0      0\n",
       "8   0   0   0   0      0\n",
       "9   1   0   0   0      0"
      ],
      "text/html": "<div>\n<style scoped>\n    .dataframe tbody tr th:only-of-type {\n        vertical-align: middle;\n    }\n\n    .dataframe tbody tr th {\n        vertical-align: top;\n    }\n\n    .dataframe thead th {\n        text-align: right;\n    }\n</style>\n<table border=\"1\" class=\"dataframe\">\n  <thead>\n    <tr style=\"text-align: right;\">\n      <th></th>\n      <th>f1</th>\n      <th>f2</th>\n      <th>f3</th>\n      <th>f4</th>\n      <th>Class</th>\n    </tr>\n  </thead>\n  <tbody>\n    <tr>\n      <th>0</th>\n      <td>0</td>\n      <td>0</td>\n      <td>0</td>\n      <td>0</td>\n      <td>0</td>\n    </tr>\n    <tr>\n      <th>1</th>\n      <td>0</td>\n      <td>0</td>\n      <td>0</td>\n      <td>0</td>\n      <td>0</td>\n    </tr>\n    <tr>\n      <th>2</th>\n      <td>1</td>\n      <td>0</td>\n      <td>0</td>\n      <td>0</td>\n      <td>0</td>\n    </tr>\n    <tr>\n      <th>3</th>\n      <td>1</td>\n      <td>0</td>\n      <td>0</td>\n      <td>0</td>\n      <td>0</td>\n    </tr>\n    <tr>\n      <th>4</th>\n      <td>1</td>\n      <td>0</td>\n      <td>0</td>\n      <td>0</td>\n      <td>0</td>\n    </tr>\n    <tr>\n      <th>5</th>\n      <td>0</td>\n      <td>0</td>\n      <td>0</td>\n      <td>0</td>\n      <td>0</td>\n    </tr>\n    <tr>\n      <th>6</th>\n      <td>1</td>\n      <td>0</td>\n      <td>0</td>\n      <td>0</td>\n      <td>0</td>\n    </tr>\n    <tr>\n      <th>7</th>\n      <td>1</td>\n      <td>0</td>\n      <td>0</td>\n      <td>0</td>\n      <td>0</td>\n    </tr>\n    <tr>\n      <th>8</th>\n      <td>0</td>\n      <td>0</td>\n      <td>0</td>\n      <td>0</td>\n      <td>0</td>\n    </tr>\n    <tr>\n      <th>9</th>\n      <td>1</td>\n      <td>0</td>\n      <td>0</td>\n      <td>0</td>\n      <td>0</td>\n    </tr>\n  </tbody>\n</table>\n</div>"
     },
     "metadata": {},
     "execution_count": 29
    }
   ],
   "source": [
    "df_"
   ]
  },
  {
   "cell_type": "code",
   "execution_count": 30,
   "metadata": {},
   "outputs": [],
   "source": [
    "#Change the name of columns\r\n",
    "df_.columns = [\"f1'\",\"f2'\",\"f3'\",\"f4'\",\"Class'\"]"
   ]
  },
  {
   "cell_type": "code",
   "execution_count": 31,
   "metadata": {},
   "outputs": [],
   "source": [
    "#Join the dataframe example with new binary dataframe\n",
    "df_df = df.merge(df_, left_index=True, right_index=True)"
   ]
  },
  {
   "cell_type": "code",
   "execution_count": 32,
   "metadata": {},
   "outputs": [
    {
     "output_type": "execute_result",
     "data": {
      "text/plain": [
       "    f1   f2    f3     f4  Class  f1'  f2'  f3'  f4'  Class'\n",
       "0  1.0  0.1  0.62  0.517      0    0    0    0    0       0\n",
       "1  4.0  0.6  0.22  0.879      1    0    0    0    0       0\n",
       "2  NaN  0.2  0.63  0.821      1    1    0    0    0       0\n",
       "3  NaN  0.7  0.36  0.018      1    1    0    0    0       0\n",
       "4  NaN  0.7  0.38  0.469      0    1    0    0    0       0\n",
       "5  8.0  0.3  0.07  0.969      0    0    0    0    0       0\n",
       "6  NaN  0.2  0.60  0.439      1    1    0    0    0       0\n",
       "7  NaN  0.8  0.17  0.177      0    1    0    0    0       0\n",
       "8  9.0  0.4  0.24  0.664      0    0    0    0    0       0\n",
       "9  NaN  0.3  0.05  0.007      1    1    0    0    0       0"
      ],
      "text/html": "<div>\n<style scoped>\n    .dataframe tbody tr th:only-of-type {\n        vertical-align: middle;\n    }\n\n    .dataframe tbody tr th {\n        vertical-align: top;\n    }\n\n    .dataframe thead th {\n        text-align: right;\n    }\n</style>\n<table border=\"1\" class=\"dataframe\">\n  <thead>\n    <tr style=\"text-align: right;\">\n      <th></th>\n      <th>f1</th>\n      <th>f2</th>\n      <th>f3</th>\n      <th>f4</th>\n      <th>Class</th>\n      <th>f1'</th>\n      <th>f2'</th>\n      <th>f3'</th>\n      <th>f4'</th>\n      <th>Class'</th>\n    </tr>\n  </thead>\n  <tbody>\n    <tr>\n      <th>0</th>\n      <td>1.0</td>\n      <td>0.1</td>\n      <td>0.62</td>\n      <td>0.517</td>\n      <td>0</td>\n      <td>0</td>\n      <td>0</td>\n      <td>0</td>\n      <td>0</td>\n      <td>0</td>\n    </tr>\n    <tr>\n      <th>1</th>\n      <td>4.0</td>\n      <td>0.6</td>\n      <td>0.22</td>\n      <td>0.879</td>\n      <td>1</td>\n      <td>0</td>\n      <td>0</td>\n      <td>0</td>\n      <td>0</td>\n      <td>0</td>\n    </tr>\n    <tr>\n      <th>2</th>\n      <td>NaN</td>\n      <td>0.2</td>\n      <td>0.63</td>\n      <td>0.821</td>\n      <td>1</td>\n      <td>1</td>\n      <td>0</td>\n      <td>0</td>\n      <td>0</td>\n      <td>0</td>\n    </tr>\n    <tr>\n      <th>3</th>\n      <td>NaN</td>\n      <td>0.7</td>\n      <td>0.36</td>\n      <td>0.018</td>\n      <td>1</td>\n      <td>1</td>\n      <td>0</td>\n      <td>0</td>\n      <td>0</td>\n      <td>0</td>\n    </tr>\n    <tr>\n      <th>4</th>\n      <td>NaN</td>\n      <td>0.7</td>\n      <td>0.38</td>\n      <td>0.469</td>\n      <td>0</td>\n      <td>1</td>\n      <td>0</td>\n      <td>0</td>\n      <td>0</td>\n      <td>0</td>\n    </tr>\n    <tr>\n      <th>5</th>\n      <td>8.0</td>\n      <td>0.3</td>\n      <td>0.07</td>\n      <td>0.969</td>\n      <td>0</td>\n      <td>0</td>\n      <td>0</td>\n      <td>0</td>\n      <td>0</td>\n      <td>0</td>\n    </tr>\n    <tr>\n      <th>6</th>\n      <td>NaN</td>\n      <td>0.2</td>\n      <td>0.60</td>\n      <td>0.439</td>\n      <td>1</td>\n      <td>1</td>\n      <td>0</td>\n      <td>0</td>\n      <td>0</td>\n      <td>0</td>\n    </tr>\n    <tr>\n      <th>7</th>\n      <td>NaN</td>\n      <td>0.8</td>\n      <td>0.17</td>\n      <td>0.177</td>\n      <td>0</td>\n      <td>1</td>\n      <td>0</td>\n      <td>0</td>\n      <td>0</td>\n      <td>0</td>\n    </tr>\n    <tr>\n      <th>8</th>\n      <td>9.0</td>\n      <td>0.4</td>\n      <td>0.24</td>\n      <td>0.664</td>\n      <td>0</td>\n      <td>0</td>\n      <td>0</td>\n      <td>0</td>\n      <td>0</td>\n      <td>0</td>\n    </tr>\n    <tr>\n      <th>9</th>\n      <td>NaN</td>\n      <td>0.3</td>\n      <td>0.05</td>\n      <td>0.007</td>\n      <td>1</td>\n      <td>1</td>\n      <td>0</td>\n      <td>0</td>\n      <td>0</td>\n      <td>0</td>\n    </tr>\n  </tbody>\n</table>\n</div>"
     },
     "metadata": {},
     "execution_count": 32
    }
   ],
   "source": [
    "df_df"
   ]
  },
  {
   "source": [
    "\n",
    "\n",
    "## In this notebook, you have different imputation methods for handling missing data."
   ],
   "cell_type": "markdown",
   "metadata": {}
  },
  {
   "source": [
    "# The project was made with the guide from this link:  https://towardsdatascience.com/different-imputation-methods-to-handle-missing-data-8dd5bce97583#7d84"
   ],
   "cell_type": "markdown",
   "metadata": {}
  },
  {
   "cell_type": "code",
   "execution_count": null,
   "metadata": {},
   "outputs": [],
   "source": []
  }
 ]
}